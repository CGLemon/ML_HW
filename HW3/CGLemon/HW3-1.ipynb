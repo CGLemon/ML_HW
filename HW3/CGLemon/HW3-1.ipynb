{
 "cells": [
  {
   "cell_type": "markdown",
   "id": "56f936c5-2de1-49bf-a039-9b60a3464991",
   "metadata": {},
   "source": [
    "# (一) 針對員工離職率(left)進行離職與否的預測"
   ]
  },
  {
   "cell_type": "code",
   "execution_count": 1,
   "id": "9eae22f8-da52-4ee4-bcb1-92ac93270f6a",
   "metadata": {},
   "outputs": [],
   "source": [
    "import os, math, io\n",
    "import pandas as pd\n",
    "import numpy as np\n",
    "import random\n",
    "\n",
    "import seaborn as sns\n",
    "import matplotlib.pyplot as plt\n",
    "\n",
    "from sklearn.metrics import confusion_matrix\n",
    "from sklearn import tree\n",
    "from lime import lime_tabular\n",
    "\n",
    "def load_all_csv():\n",
    "    train_name = os.path.join(\"data\", \"HW2_hr-analytics_train.csv\")\n",
    "    test_name = os.path.join(\"data\", \"HW2_hr-analytics_test.csv\")\n",
    "    train_df = pd.read_csv(train_name)\n",
    "    test_df = pd.read_csv(test_name)\n",
    "    return train_df, test_df\n",
    "\n",
    "def shuffle(x_chunk, y_chunk):\n",
    "    buf = list()\n",
    "    for x, y in zip(x_chunk, y_chunk):\n",
    "       buf.append((x,y))\n",
    "    random.shuffle(buf)\n",
    "\n",
    "    x_chunk_out, y_chunk_out = list(), list()\n",
    "    for x, y in buf:\n",
    "        x_chunk_out.append(x)\n",
    "        y_chunk_out.append(y)\n",
    "    x_chunk_out = np.array(x_chunk_out, dtype=np.float32)\n",
    "    y_chunk_out = np.array(y_chunk_out, dtype=np.int32)\n",
    "    return x_chunk_out, y_chunk_out\n",
    "\n",
    "def split(x_chunk, y_chunk, r=0.9):\n",
    "    x_chunk, y_chunk = shuffle(x_chunk, y_chunk)\n",
    "    size = round(len(y_chunk) * r) \n",
    "    train_x = x_chunk[:size]\n",
    "    train_y = y_chunk[:size]\n",
    "    test_x = x_chunk[size:]\n",
    "    test_y = y_chunk[size:]\n",
    "    return train_x, train_y, test_x, test_y \n",
    "\n",
    "def get_data_format(df):\n",
    "    dformat = dict()\n",
    "    for label in df.keys().values:\n",
    "        dformat[label] = dict()\n",
    "    for k, v in df.dtypes.items():\n",
    "        dformat[k][\"obj\"] = v == object\n",
    "    for k, v in df.max(axis=0).items():\n",
    "        if not dformat[k][\"obj\"]:\n",
    "            dformat[k][\"max\"] = v\n",
    "    for label in df.keys().values:\n",
    "        if dformat[label][\"obj\"]:\n",
    "            tset = set()\n",
    "            vmape = dict()\n",
    "            for v in df[label].values:\n",
    "                tset.add(v)\n",
    "            tset = sorted(list(tset))\n",
    "            for i, v in enumerate(tset):\n",
    "                vmape[v] = i\n",
    "            dformat[label][\"map\"] = vmape\n",
    "            dformat[label][\"size\"] = len(tset)\n",
    "    return dformat\n",
    "\n",
    "def transfer_data(df, dformat):\n",
    "    labels = df.keys().values\n",
    "    x_chunk = list()\n",
    "    y_chunk = list()\n",
    "    features = list()\n",
    "    targets = list()\n",
    "\n",
    "    for label in labels:\n",
    "        fmt = dformat[label]\n",
    "        if label == \"left\":\n",
    "            targets = [\"not left\", \"left\"]\n",
    "        else:\n",
    "            if fmt[\"obj\"]:\n",
    "                features.append(label)\n",
    "            else:\n",
    "                features.append(label)\n",
    "\n",
    "    for index, row in df.iterrows():\n",
    "        x = list()\n",
    "        y = int(0)\n",
    "\n",
    "        for label in labels:\n",
    "            val = row[label]\n",
    "            fmt = dformat[label]\n",
    "            if label == \"left\":\n",
    "                y = [0] * 2\n",
    "                y[val] = 1\n",
    "            else:\n",
    "                if fmt[\"obj\"]:\n",
    "                    # sub = [0] * fmt[\"size\"]\n",
    "                    # sub[fmt[\"map\"][val]] = 1\n",
    "                    title = label\n",
    "                    sub = [ (fmt[\"map\"][val] + 1)/fmt[\"size\"] ]\n",
    "                else:\n",
    "                    title = label\n",
    "                    sub = [ val/fmt[\"max\"]  ]\n",
    "                x.extend(sub)\n",
    "        x_chunk.append(x)\n",
    "        y_chunk.append(y)\n",
    "    x_chunk = np.array(x_chunk, dtype=np.float32)\n",
    "    y_chunk = np.array(y_chunk, dtype=np.int32)\n",
    "    return x_chunk, y_chunk, features, targets"
   ]
  },
  {
   "cell_type": "markdown",
   "id": "f6782445-a31a-4bc6-83cf-a23c0b9ab0ae",
   "metadata": {},
   "source": [
    "### 載入訓練資、編碼並分割成序練集和測試集"
   ]
  },
  {
   "cell_type": "code",
   "execution_count": 2,
   "id": "c7dd7594-ce5b-4cc1-bd41-87a2f0e9e792",
   "metadata": {},
   "outputs": [],
   "source": [
    "train_df, test_df = load_all_csv()\n",
    "dformat = get_data_format(train_df)\n",
    "x_chunk, y_chunk, features, targets = transfer_data(train_df, dformat)\n",
    "train_x, train_y, test_x, test_y = split(x_chunk, y_chunk, r=0.9)"
   ]
  },
  {
   "cell_type": "markdown",
   "id": "b303b888-7883-4a2a-b0b8-e1f3e56026a0",
   "metadata": {},
   "source": [
    "### 以 Decision Tree 訓練之"
   ]
  },
  {
   "cell_type": "code",
   "execution_count": 3,
   "id": "9a858521-2f27-47e3-ae17-fdfad72def73",
   "metadata": {},
   "outputs": [
    {
     "data": {
      "text/html": [
       "<style>#sk-container-id-1 {color: black;}#sk-container-id-1 pre{padding: 0;}#sk-container-id-1 div.sk-toggleable {background-color: white;}#sk-container-id-1 label.sk-toggleable__label {cursor: pointer;display: block;width: 100%;margin-bottom: 0;padding: 0.3em;box-sizing: border-box;text-align: center;}#sk-container-id-1 label.sk-toggleable__label-arrow:before {content: \"▸\";float: left;margin-right: 0.25em;color: #696969;}#sk-container-id-1 label.sk-toggleable__label-arrow:hover:before {color: black;}#sk-container-id-1 div.sk-estimator:hover label.sk-toggleable__label-arrow:before {color: black;}#sk-container-id-1 div.sk-toggleable__content {max-height: 0;max-width: 0;overflow: hidden;text-align: left;background-color: #f0f8ff;}#sk-container-id-1 div.sk-toggleable__content pre {margin: 0.2em;color: black;border-radius: 0.25em;background-color: #f0f8ff;}#sk-container-id-1 input.sk-toggleable__control:checked~div.sk-toggleable__content {max-height: 200px;max-width: 100%;overflow: auto;}#sk-container-id-1 input.sk-toggleable__control:checked~label.sk-toggleable__label-arrow:before {content: \"▾\";}#sk-container-id-1 div.sk-estimator input.sk-toggleable__control:checked~label.sk-toggleable__label {background-color: #d4ebff;}#sk-container-id-1 div.sk-label input.sk-toggleable__control:checked~label.sk-toggleable__label {background-color: #d4ebff;}#sk-container-id-1 input.sk-hidden--visually {border: 0;clip: rect(1px 1px 1px 1px);clip: rect(1px, 1px, 1px, 1px);height: 1px;margin: -1px;overflow: hidden;padding: 0;position: absolute;width: 1px;}#sk-container-id-1 div.sk-estimator {font-family: monospace;background-color: #f0f8ff;border: 1px dotted black;border-radius: 0.25em;box-sizing: border-box;margin-bottom: 0.5em;}#sk-container-id-1 div.sk-estimator:hover {background-color: #d4ebff;}#sk-container-id-1 div.sk-parallel-item::after {content: \"\";width: 100%;border-bottom: 1px solid gray;flex-grow: 1;}#sk-container-id-1 div.sk-label:hover label.sk-toggleable__label {background-color: #d4ebff;}#sk-container-id-1 div.sk-serial::before {content: \"\";position: absolute;border-left: 1px solid gray;box-sizing: border-box;top: 0;bottom: 0;left: 50%;z-index: 0;}#sk-container-id-1 div.sk-serial {display: flex;flex-direction: column;align-items: center;background-color: white;padding-right: 0.2em;padding-left: 0.2em;position: relative;}#sk-container-id-1 div.sk-item {position: relative;z-index: 1;}#sk-container-id-1 div.sk-parallel {display: flex;align-items: stretch;justify-content: center;background-color: white;position: relative;}#sk-container-id-1 div.sk-item::before, #sk-container-id-1 div.sk-parallel-item::before {content: \"\";position: absolute;border-left: 1px solid gray;box-sizing: border-box;top: 0;bottom: 0;left: 50%;z-index: -1;}#sk-container-id-1 div.sk-parallel-item {display: flex;flex-direction: column;z-index: 1;position: relative;background-color: white;}#sk-container-id-1 div.sk-parallel-item:first-child::after {align-self: flex-end;width: 50%;}#sk-container-id-1 div.sk-parallel-item:last-child::after {align-self: flex-start;width: 50%;}#sk-container-id-1 div.sk-parallel-item:only-child::after {width: 0;}#sk-container-id-1 div.sk-dashed-wrapped {border: 1px dashed gray;margin: 0 0.4em 0.5em 0.4em;box-sizing: border-box;padding-bottom: 0.4em;background-color: white;}#sk-container-id-1 div.sk-label label {font-family: monospace;font-weight: bold;display: inline-block;line-height: 1.2em;}#sk-container-id-1 div.sk-label-container {text-align: center;}#sk-container-id-1 div.sk-container {/* jupyter's `normalize.less` sets `[hidden] { display: none; }` but bootstrap.min.css set `[hidden] { display: none !important; }` so we also need the `!important` here to be able to override the default hidden behavior on the sphinx rendered scikit-learn.org. See: https://github.com/scikit-learn/scikit-learn/issues/21755 */display: inline-block !important;position: relative;}#sk-container-id-1 div.sk-text-repr-fallback {display: none;}</style><div id=\"sk-container-id-1\" class=\"sk-top-container\"><div class=\"sk-text-repr-fallback\"><pre>DecisionTreeClassifier()</pre><b>In a Jupyter environment, please rerun this cell to show the HTML representation or trust the notebook. <br />On GitHub, the HTML representation is unable to render, please try loading this page with nbviewer.org.</b></div><div class=\"sk-container\" hidden><div class=\"sk-item\"><div class=\"sk-estimator sk-toggleable\"><input class=\"sk-toggleable__control sk-hidden--visually\" id=\"sk-estimator-id-1\" type=\"checkbox\" checked><label for=\"sk-estimator-id-1\" class=\"sk-toggleable__label sk-toggleable__label-arrow\">DecisionTreeClassifier</label><div class=\"sk-toggleable__content\"><pre>DecisionTreeClassifier()</pre></div></div></div></div></div>"
      ],
      "text/plain": [
       "DecisionTreeClassifier()"
      ]
     },
     "execution_count": 3,
     "metadata": {},
     "output_type": "execute_result"
    }
   ],
   "source": [
    "train_x, train_y, test_x, test_y = split(x_chunk, y_chunk, r=0.9)\n",
    "clf = tree.DecisionTreeClassifier()\n",
    "clf.fit(train_x, train_y)"
   ]
  },
  {
   "cell_type": "markdown",
   "id": "dd05b23f-8fc6-4053-8fc3-d33f7a402a78",
   "metadata": {},
   "source": [
    "### 用混淆矩陣驗證訓練節果"
   ]
  },
  {
   "cell_type": "code",
   "execution_count": 4,
   "id": "2c83f035-9c17-4970-b587-e544995eaadb",
   "metadata": {},
   "outputs": [
    {
     "name": "stdout",
     "output_type": "stream",
     "text": [
      "Accurate Rate 97.30 %\n"
     ]
    },
    {
     "data": {
      "image/png": "[encoded data removed]",
      "text/plain": [
       "<Figure size 1500x800 with 1 Axes>"
      ]
     },
     "metadata": {},
     "output_type": "display_data"
    }
   ],
   "source": [
    "def test_performance(model, test_x, test_y):\n",
    "    pred = model.predict(test_x)\n",
    "\n",
    "    arg_p = np.argmax(pred, axis=-1)\n",
    "    arg_y = np.argmax(test_y, axis=-1)\n",
    "\n",
    "    cor = np.count_nonzero(arg_p == arg_y)\n",
    "    cnt = len(arg_p)\n",
    "    print(\"Accurate Rate {:.2f} %\".format(100. * cor/cnt))\n",
    "\n",
    "    table = confusion_matrix(arg_y, arg_p)\n",
    "\n",
    "    plt.figure(figsize=(15,8))\n",
    "    sns.heatmap(table,square=True,annot=True,fmt='d',linecolor='white',cmap='RdBu',linewidths=1.5,cbar=False)\n",
    "    plt.xlabel('Pred',fontsize=20)\n",
    "    plt.ylabel('True',fontsize=20)\n",
    "    plt.show()\n",
    "\n",
    "    # J = table[0][0]/(table[0][0] + table[0][1]) + table[1][1]/(table[1][0] + table[1][1]) - 1\n",
    "    # print(J)\n",
    "\n",
    "test_performance(clf, test_x, test_y)"
   ]
  },
  {
   "cell_type": "markdown",
   "id": "26259614-dac1-4195-9c51-e8c0dfba3fe6",
   "metadata": {},
   "source": [
    "### 找出兩個最佳的特徵數\n",
    "輸出左側是挑選的特徵，右側此特徵對輸出結果影響力，影響力是所有測試集的平均影響力，使用 Lime 計算影響力"
   ]
  },
  {
   "cell_type": "code",
   "execution_count": 5,
   "id": "b25f2100-2653-4ab2-a923-383519d6cf9f",
   "metadata": {},
   "outputs": [
    {
     "name": "stdout",
     "output_type": "stream",
     "text": [
      "[Feature Name] -> [Effect Value]\n",
      "number_project -> 0.0522\n",
      "satisfaction_level -> 0.0283\n"
     ]
    }
   ],
   "source": [
    "def find_top2(model, train_x, test_x, features, targets):\n",
    "    def batch_predict(data):\n",
    "        probs = model.predict(data)\n",
    "        return probs\n",
    "\n",
    "    explainer = lime_tabular.LimeTabularExplainer(\n",
    "        training_data=train_x,\n",
    "        feature_names=features,\n",
    "        class_names=targets,\n",
    "        mode=\"classification\"\n",
    "    )\n",
    "\n",
    "    num_features = len(train_x[0])\n",
    "    effect = [0] * num_features\n",
    "    cnt = 0\n",
    "\n",
    "    for x in test_x:\n",
    "        exp = explainer.explain_instance(\n",
    "            data_row=x,\n",
    "            predict_fn=batch_predict,\n",
    "            top_labels=2,\n",
    "            num_features=num_features\n",
    "        )\n",
    "        for k, v in exp.as_list(label=1):\n",
    "            for i, f in enumerate(features):\n",
    "                if f in k:\n",
    "                    effect[i] += abs(v)\n",
    "                    break\n",
    "        cnt += 1\n",
    "\n",
    "    result = zip(features, np.array(effect)/cnt)\n",
    "    result = sorted(list(result), key=lambda x: x[1], reverse=True)\n",
    "\n",
    "    print(\"[Feature Name] -> [Effect Value]\")\n",
    "    for f, v in result[0:2]:\n",
    "        print(\"{} -> {:.4f}\".format(f, v))\n",
    "find_top2(clf, train_x, test_x, features, targets)"
   ]
  },
  {
   "cell_type": "markdown",
   "id": "2062eab4-3819-4dbb-86e3-24cee0b26656",
   "metadata": {},
   "source": [
    "# 輸出預測結果"
   ]
  },
  {
   "cell_type": "code",
   "execution_count": 6,
   "id": "89eb6c72-a6e8-44da-922d-024697f25232",
   "metadata": {},
   "outputs": [
    {
     "name": "stdout",
     "output_type": "stream",
     "text": [
      "         0\n",
      "0     left\n",
      "1        0\n",
      "2        0\n",
      "3        1\n",
      "4        1\n",
      "...    ...\n",
      "4996     0\n",
      "4997     0\n",
      "4998     0\n",
      "4999     0\n",
      "5000     1\n",
      "\n",
      "[5001 rows x 1 columns]\n"
     ]
    }
   ],
   "source": [
    "def print_results(model, x_chunk):\n",
    "    pred_result = \"left\\n\"\n",
    "    pred = model.predict(x_chunk)\n",
    "\n",
    "    for p in pred:\n",
    "        pred_result += \"{}\\n\".format(np.argmax(p))\n",
    "    pred_result = pred_result[:-1]\n",
    "\n",
    "    df = pd.read_csv(io.StringIO(pred_result), sep=\",\", header=None)\n",
    "    print(df)\n",
    "\n",
    "    df.to_csv(\"HW2_hr-analytics_test_sol.csv\");\n",
    "\n",
    "x_chunk, _, _, _ = transfer_data(test_df, dformat)\n",
    "print_results(clf, x_chunk)"
   ]
  }
 ],
 "metadata": {
  "kernelspec": {
   "display_name": "Python 3 (ipykernel)",
   "language": "python",
   "name": "python3"
  },
  "language_info": {
   "codemirror_mode": {
    "name": "ipython",
    "version": 3
   },
   "file_extension": ".py",
   "mimetype": "text/x-python",
   "name": "python",
   "nbconvert_exporter": "python",
   "pygments_lexer": "ipython3",
   "version": "3.10.12"
  }
 },
 "nbformat": 4,
 "nbformat_minor": 5
}
