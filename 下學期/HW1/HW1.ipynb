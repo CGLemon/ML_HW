{
 "cells": [
  {
   "cell_type": "markdown",
   "id": "db7bd6f5-16c8-48d9-9235-d336ec5d24f1",
   "metadata": {},
   "source": [
    "# Step 1. 準備訓練資料"
   ]
  },
  {
   "cell_type": "code",
   "execution_count": 1,
   "id": "64d0e8ab-55a4-428c-8432-8cdf2e2d1a19",
   "metadata": {},
   "outputs": [],
   "source": [
    "from sklearn import datasets\n",
    "from sklearn.model_selection import train_test_split\n",
    "\n",
    "circles_data, circles_data_labels = datasets.make_circles(n_samples=100, factor=0.1, noise=0.1)\n",
    "\n",
    "px_data_0 = list()\n",
    "py_data_0 = list()\n",
    "px_data_1 = list()\n",
    "py_data_1 = list()\n",
    "\n",
    "for (x, y), t in zip(circles_data, circles_data_labels):\n",
    "    if t==1:\n",
    "        px_data_1.append(x)\n",
    "        py_data_1.append(y)\n",
    "    else:\n",
    "        px_data_0.append(x)\n",
    "        py_data_0.append(y)\n",
    "\n",
    "# 分割 70% 訓練集，30% 測試集\n",
    "x_train, x_test, y_train, y_test = train_test_split(\n",
    "    circles_data, circles_data_labels, train_size=0.7, random_state=42)"
   ]
  },
  {
   "cell_type": "markdown",
   "id": "f638cc3e-2d2a-49c2-95a9-44d0ffc5c456",
   "metadata": {},
   "source": [
    "# Step 2. 建立神經網路"
   ]
  },
  {
   "cell_type": "code",
   "execution_count": 2,
   "id": "b64ab72b-8a3b-4fe9-865e-8760218cbb48",
   "metadata": {},
   "outputs": [],
   "source": [
    "import torch\n",
    "import torch.nn as nn\n",
    "import torch.nn.functional as F\n",
    "import torch.optim as optim\n",
    "import numpy as np\n",
    "\n",
    "class FullyConnect(nn.Module):\n",
    "    def __init__(self, in_size,\n",
    "                       out_size,\n",
    "                       activation=None):\n",
    "        super().__init__()\n",
    "        self.linear = nn.Linear(in_size, out_size)\n",
    "        self.act = activation\n",
    "\n",
    "    def forward(self, x):\n",
    "        x = self.linear(x)\n",
    "        if self.act is not None:\n",
    "            x = self.act(x)\n",
    "        return x\n",
    "\n",
    "class Swish(nn.Module):\n",
    "    def forward(self, x):\n",
    "        return x * torch.sigmoid(x)\n",
    "\n",
    "class Network(nn.Module):\n",
    "    def __init__(self, mid):\n",
    "        super().__init__()\n",
    "        self.layers = nn.Sequential(\n",
    "          FullyConnect(2, mid),\n",
    "          Swish(),\n",
    "          FullyConnect(mid, mid),\n",
    "          Swish(),\n",
    "          FullyConnect(mid, 2)\n",
    "        )\n",
    "        self.softmax = nn.Softmax(dim=1)\n",
    "\n",
    "    def forward(self, x):\n",
    "        x = self.layers(x)\n",
    "        return x\n",
    "\n",
    "    def get_max(self, x):\n",
    "        x_tensor = torch.from_numpy(x).float()\n",
    "        y = self(x_tensor)\n",
    "        y = self.softmax(y)\n",
    "        _, i = torch.max(y, 1)\n",
    "        return i.detach().cpu().numpy()\n",
    "\n",
    "    def get_maxprob(self, x):\n",
    "        x_tensor = torch.from_numpy(x).float()\n",
    "        y = self(x_tensor)\n",
    "        y = self.softmax(y)\n",
    "        v, i = torch.max(y, 1)\n",
    "        out = torch.where(i == 0, 1. - v, v)\n",
    "        return out.detach().cpu().numpy()\n",
    "\n",
    "net = Network(32)"
   ]
  },
  {
   "cell_type": "markdown",
   "id": "6e6a8d85-aaf3-4c90-839d-9c74d67e3da1",
   "metadata": {},
   "source": [
    "# Step 3. 訓練網路"
   ]
  },
  {
   "cell_type": "code",
   "execution_count": 3,
   "id": "9d4043c5-c406-41f0-b4ff-c6f636b19dfa",
   "metadata": {},
   "outputs": [
    {
     "name": "stdout",
     "output_type": "stream",
     "text": [
      "Epoches 10 -> loss: 0.6787 | accuracy : 30.00%\n",
      "Epoches 20 -> loss: 0.6418 | accuracy : 46.67%\n",
      "Epoches 30 -> loss: 0.5285 | accuracy : 66.67%\n",
      "Epoches 40 -> loss: 0.1155 | accuracy : 100.00%\n",
      "Epoches 50 -> loss: 0.0019 | accuracy : 100.00%\n",
      "Epoches 60 -> loss: 0.0002 | accuracy : 100.00%\n"
     ]
    }
   ],
   "source": [
    "opt = optim.SGD(net.parameters(),\n",
    "                lr=0.2,\n",
    "                momentum=0.9,\n",
    "                nesterov=True,\n",
    "                weight_decay=0.)\n",
    "\n",
    "def loss_fn(pred, tgt):\n",
    "    fn = nn.CrossEntropyLoss()\n",
    "    return fn(pred, tgt)\n",
    "\n",
    "# 訓練網路\n",
    "epoches = 2000\n",
    "for e in range(epoches):\n",
    "    x_train_torch = torch.from_numpy(x_train).float()\n",
    "    y_train_torch = torch.from_numpy(y_train).long()\n",
    "\n",
    "    y_pred = net(x_train_torch)\n",
    "    loss = loss_fn(y_pred, y_train_torch)\n",
    "\n",
    "    opt.zero_grad()\n",
    "    loss.backward()\n",
    "    opt.step()\n",
    "\n",
    "    if (e+1) % 10 == 0:\n",
    "        net.eval()\n",
    "        y_test_pred = net.get_max(x_test)\n",
    "        result = np.where(y_test_pred == y_test, 1, 0)\n",
    "        acc = result.sum()/len(result)\n",
    "        print(\"Epoches {} -> loss: {:.4f} | accuracy : {:.2f}%\".format(\n",
    "                  e+1, loss.item(), 100.0 * acc))\n",
    "        net.train()\n",
    "        if acc >= 1.0 and loss < 0.001:\n",
    "            break"
   ]
  },
  {
   "cell_type": "markdown",
   "id": "d1824d7e-5758-4ea2-9ba8-ef80b9710f14",
   "metadata": {},
   "source": [
    "# Step 4. 繪出結果"
   ]
  },
  {
   "cell_type": "code",
   "execution_count": 4,
   "id": "4d15f530-fb86-4755-a50f-4f680667a746",
   "metadata": {},
   "outputs": [
    {
     "data": {
      "image/png": "[encoded data removed]",
      "text/plain": [
       "<Figure size 640x480 with 1 Axes>"
      ]
     },
     "metadata": {},
     "output_type": "display_data"
    }
   ],
   "source": [
    "import matplotlib.pyplot as plt\n",
    "\n",
    "bound = 1.20\n",
    "N = 100\n",
    "y, x = np.meshgrid(np.linspace(-bound, bound, N), np.linspace(-bound, bound, N))\n",
    "z = np.zeros((N, N))\n",
    "\n",
    "for i in range(N):\n",
    "    for j in range(N):\n",
    "        data = np.array([[x[j][i], y[j][i]]])\n",
    "        z[j][i] = net.get_maxprob(data)[0]\n",
    "\n",
    "coffset = 0.45\n",
    "\n",
    "c = plt.pcolormesh(x, y, z, cmap='RdBu', vmin=0. - coffset, vmax=1. + coffset)\n",
    "plt.title(\"data\")\n",
    "plt.axis([x.min(), x.max(), y.min(), y.max()])\n",
    "plt.plot(px_data_0, py_data_0, 'o', color='red', label='0')\n",
    "plt.plot(px_data_1, py_data_1, 'o', color='blue', label='1')\n",
    "plt.title(\"circles_data_labels\")\n",
    "plt.legend()\n",
    "plt.show()"
   ]
  }
 ],
 "metadata": {
  "kernelspec": {
   "display_name": "Python 3 (ipykernel)",
   "language": "python",
   "name": "python3"
  },
  "language_info": {
   "codemirror_mode": {
    "name": "ipython",
    "version": 3
   },
   "file_extension": ".py",
   "mimetype": "text/x-python",
   "name": "python",
   "nbconvert_exporter": "python",
   "pygments_lexer": "ipython3",
   "version": "3.10.12"
  }
 },
 "nbformat": 4,
 "nbformat_minor": 5
}
