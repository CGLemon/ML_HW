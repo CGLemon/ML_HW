{
 "cells": [
  {
   "cell_type": "markdown",
   "id": "7c43cb39-a029-457a-8a54-a3455d511e4f",
   "metadata": {},
   "source": [
    "## 載入並處理資料"
   ]
  },
  {
   "cell_type": "code",
   "execution_count": 1,
   "id": "60c4218f-25a4-4b91-a2ed-549db8ccf49b",
   "metadata": {},
   "outputs": [
    {
     "name": "stdout",
     "output_type": "stream",
     "text": [
      "Number of questions with support:  10481\n"
     ]
    }
   ],
   "source": [
    "from datasets import load_dataset\n",
    "dataset = load_dataset(\"sciq\", split=\"train\")\n",
    "dataset = dataset.filter(lambda x: x[\"support\"] != \"\")\n",
    "print(\"Number of questions with support: \", len(dataset))\n",
    "\n",
    "import chromadb\n",
    "client = chromadb.Client()\n",
    "collection = client.create_collection(\"sciq\")\n",
    "\n",
    "max_size = min(len(dataset), 500)\n",
    "collection.add(\n",
    "    ids=[str(i) for i in range(max_size)],\n",
    "    documents=dataset[\"support\"][:max_size],\n",
    "    metadatas=[{\"type\": \"support\"} for _ in range(max_size)\n",
    "    ],\n",
    ")"
   ]
  },
  {
   "cell_type": "markdown",
   "id": "f7b9d6db-0a48-4e1c-93af-fb71f3dc5551",
   "metadata": {},
   "source": [
    "## 開始問答系統"
   ]
  },
  {
   "cell_type": "code",
   "execution_count": 2,
   "id": "90b0faa2-76c5-430f-bf22-4bd67e931295",
   "metadata": {},
   "outputs": [
    {
     "name": "stdin",
     "output_type": "stream",
     "text": [
      "Question:  What is the least dangerous radioactive decay?\n"
     ]
    },
    {
     "name": "stdout",
     "output_type": "stream",
     "text": [
      "Your question: What is the least dangerous radioactive decay?\n",
      "-----\n",
      "Response 1:\n",
      "All radioactive decay is dangerous to living things, but alpha decay is the least dangerous.\n",
      "-----\n"
     ]
    }
   ],
   "source": [
    "# 獲取使用者的查詢 #\"Question: What is the least dangerous radioactive decay?\n",
    "query = input(\"Question: \")\n",
    "if len(query) == 0:\n",
    "    print(\"Please enter a question. Ctrl+C to Quit.\\n\")\n",
    "\n",
    "print(\"Your question: {}\".format(query))\n",
    "results = collection.query(\n",
    "query_texts=[query], n_results=1, include=[\"documents\", \"metadatas\"])\n",
    "\n",
    "print(\"-----\")\n",
    "for i, R in enumerate(results['documents'][0], 1):\n",
    "    print(\"Response {}:\".format(i))\n",
    "    print(R)\n",
    "    print(\"-----\")"
   ]
  }
 ],
 "metadata": {
  "kernelspec": {
   "display_name": "Python 3 (ipykernel)",
   "language": "python",
   "name": "python3"
  },
  "language_info": {
   "codemirror_mode": {
    "name": "ipython",
    "version": 3
   },
   "file_extension": ".py",
   "mimetype": "text/x-python",
   "name": "python",
   "nbconvert_exporter": "python",
   "pygments_lexer": "ipython3",
   "version": "3.10.12"
  }
 },
 "nbformat": 4,
 "nbformat_minor": 5
}
