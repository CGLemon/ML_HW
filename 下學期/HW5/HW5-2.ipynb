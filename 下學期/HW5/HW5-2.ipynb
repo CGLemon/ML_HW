{
 "cells": [
  {
   "cell_type": "markdown",
   "id": "7c43cb39-a029-457a-8a54-a3455d511e4f",
   "metadata": {},
   "source": [
    "## 載入並處理資料"
   ]
  },
  {
   "cell_type": "code",
   "execution_count": 1,
   "id": "60c4218f-25a4-4b91-a2ed-549db8ccf49b",
   "metadata": {},
   "outputs": [],
   "source": [
    "import chromadb\n",
    "from datasets import load_dataset\n",
    "\n",
    "dataset = load_dataset(\"squad\", split=\"train\")\n",
    "\n",
    "ids = dataset[\"id\"]\n",
    "context = dataset[\"context\"]\n",
    "question = dataset[\"question\"]\n",
    "answers = dataset[\"answers\"]\n",
    "\n",
    "max_data_size = min(2500, len(dataset))\n",
    "client = chromadb.Client()\n",
    "collection = client.create_collection(\"squad\")\n",
    "\n",
    "collection.add(\n",
    "    ids=[\"context-{}\".format(i) for i in ids[:max_data_size]],\n",
    "    documents=context[:max_data_size],\n",
    "    metadatas=[{\"from\": \"context\"} for _ in range(max_data_size)],\n",
    ")\n",
    "collection.add(\n",
    "    ids=[\"question-{}\".format(i) for i in ids[:max_data_size]],\n",
    "    documents=question[:max_data_size],\n",
    "    metadatas=[{\"from\": \"question\"} for _ in range(max_data_size)],\n",
    ")\n",
    "collection.add(\n",
    "    ids=[\"answers-{}\".format(i) for i in ids[:max_data_size]],\n",
    "    documents=[a[\"text\"][0] for a in answers[:max_data_size]],\n",
    "    metadatas=[{\"from\": \"answers\"} for _ in range(max_data_size)],\n",
    ")"
   ]
  },
  {
   "cell_type": "markdown",
   "id": "f7b9d6db-0a48-4e1c-93af-fb71f3dc5551",
   "metadata": {},
   "source": [
    "## 開始問答系統"
   ]
  },
  {
   "cell_type": "code",
   "execution_count": 2,
   "id": "90b0faa2-76c5-430f-bf22-4bd67e931295",
   "metadata": {},
   "outputs": [
    {
     "name": "stdout",
     "output_type": "stream",
     "text": [
      "Notre Dame\n"
     ]
    }
   ],
   "source": [
    "query = \"What is the oldest structure at Notre Dame?\"\n",
    "results = collection.query(\n",
    "    query_texts=[query],\n",
    "    n_results=1,\n",
    "    where={\"from\": \"answers\"},)\n",
    "answer = results[\"documents\"][0][0]\n",
    "print(answer)"
   ]
  }
 ],
 "metadata": {
  "kernelspec": {
   "display_name": "Python 3 (ipykernel)",
   "language": "python",
   "name": "python3"
  },
  "language_info": {
   "codemirror_mode": {
    "name": "ipython",
    "version": 3
   },
   "file_extension": ".py",
   "mimetype": "text/x-python",
   "name": "python",
   "nbconvert_exporter": "python",
   "pygments_lexer": "ipython3",
   "version": "3.10.12"
  }
 },
 "nbformat": 4,
 "nbformat_minor": 5
}
