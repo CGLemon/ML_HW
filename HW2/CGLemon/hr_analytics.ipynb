{
 "cells": [
  {
   "cell_type": "code",
   "execution_count": 1,
   "id": "5bbcafb7-38a9-4554-a182-c345910a9d0e",
   "metadata": {},
   "outputs": [],
   "source": [
    "import os, math\n",
    "import pandas as pd\n",
    "import numpy as np\n",
    "import random, io\n",
    "\n",
    "import seaborn as sns\n",
    "import matplotlib.pyplot as plt\n",
    "\n",
    "from sklearn.linear_model import LogisticRegression\n",
    "from sklearn.metrics import confusion_matrix\n",
    "\n",
    "def load_all_csv():\n",
    "    train_name = os.path.join(\"data\", \"HW2_hr-analytics_train.csv\")\n",
    "    test_name = os.path.join(\"data\", \"HW2_hr-analytics_test.csv\")\n",
    "    train_df = pd.read_csv(train_name)\n",
    "    test_df = pd.read_csv(test_name)\n",
    "    return train_df, test_df\n",
    "\n",
    "def shuffle(x_chunk, y_chunk):\n",
    "    buf = list()\n",
    "    for x, y in zip(x_chunk, y_chunk):\n",
    "       buf.append((x,y))\n",
    "    random.shuffle(buf)\n",
    "\n",
    "    x_chunk_out, y_chunk_out = list(), list()\n",
    "    for x, y in buf:\n",
    "        x_chunk_out.append(x)\n",
    "        y_chunk_out.append(y)\n",
    "    x_chunk_out = np.array(x_chunk_out, dtype=np.float32)\n",
    "    y_chunk_out = np.array(y_chunk_out, dtype=np.int32)\n",
    "    return x_chunk_out, y_chunk_out\n",
    "\n",
    "def split(x_chunk, y_chunk, r=0.9):\n",
    "    x_chunk, y_chunk = shuffle(x_chunk, y_chunk)\n",
    "    size = round(len(y_chunk) * r) \n",
    "    train_x = x_chunk[:size]\n",
    "    train_y = y_chunk[:size]\n",
    "    test_x = x_chunk[size:]\n",
    "    test_y = y_chunk[size:]\n",
    "    return train_x, train_y, test_x, test_y \n",
    "\n",
    "def test_performance(lr, test_x, test_y):\n",
    "    pred = lr.predict(test_x)\n",
    "\n",
    "    cnt, cor = 0, 0\n",
    "    for p, r in zip(pred, test_y):\n",
    "        cnt += 1\n",
    "        if p == r:\n",
    "            cor += 1\n",
    "    # print(cor/cnt)\n",
    "    table = confusion_matrix(test_y, pred)\n",
    "\n",
    "    plt.figure(figsize=(7,4))\n",
    "    sns.heatmap(table,square=True,annot=True,fmt='d',linecolor='white',cmap='RdBu',linewidths=1.5,cbar=False)\n",
    "    plt.xlabel(\"Pred\",fontsize=20)\n",
    "    plt.ylabel(\"True\",fontsize=20)\n",
    "    plt.show()\n",
    "\n",
    "    Y = table[0][0]/(table[0][0] + table[0][1]) + table[1][1]/(table[1][0] + table[1][1]) - 1\n",
    "    print(\"Youden Index : {:.4f}\".format(Y))\n",
    "\n",
    "def print_results(lr, x_chunk):\n",
    "    pred_result = \"left\\n\"\n",
    "    pred = lr.predict(x_chunk)\n",
    "\n",
    "    for p in pred:\n",
    "        pred_result += \"{}\\n\".format(p)\n",
    "    pred_result = pred_result[:-1]\n",
    "    df = pd.read_csv(io.StringIO(pred_result), sep=\",\", header=None)\n",
    "    print(df)\n",
    "\n",
    "def get_data_format(df):\n",
    "    dformat = dict()\n",
    "    for label in df.keys().values:\n",
    "        dformat[label] = dict()\n",
    "    for k, v in df.dtypes.items():\n",
    "        dformat[k][\"obj\"] = v == object\n",
    "    for k, v in df.max(axis=0).items():\n",
    "        if not dformat[k][\"obj\"]:\n",
    "            dformat[k][\"max\"] = v\n",
    "    for label in df.keys().values:\n",
    "        if dformat[label][\"obj\"]:\n",
    "            tset = set()\n",
    "            vmape = dict()\n",
    "            for v in df[label].values:\n",
    "                tset.add(v)\n",
    "            tset = sorted(list(tset))\n",
    "            for i, v in enumerate(tset):\n",
    "                vmape[v] = i\n",
    "            dformat[label][\"map\"] = vmape\n",
    "            dformat[label][\"size\"] = len(tset)\n",
    "    return dformat\n",
    "\n",
    "def transfer_data(df, dformat):\n",
    "    labels = df.keys().values\n",
    "    x_chunk = list()\n",
    "    y_chunk = list()\n",
    "    for index, row in df.iterrows():\n",
    "        x = list()\n",
    "        y = int(0)\n",
    "\n",
    "        for label in labels:\n",
    "            val = row[label]\n",
    "            fmt = dformat[label]\n",
    "            if label == \"left\":\n",
    "                y = val\n",
    "            else:\n",
    "                if fmt[\"obj\"]:\n",
    "                    sub = [0] * fmt[\"size\"]\n",
    "                    sub[fmt[\"map\"][val]] = 1\n",
    "                else:\n",
    "                    sub = [ val/fmt[\"max\"]  ]\n",
    "                x.extend(sub)\n",
    "        x_chunk.append(x)\n",
    "        y_chunk.append(y)\n",
    "    x_chunk = np.array(x_chunk, dtype=np.float32)\n",
    "    y_chunk = np.array(y_chunk, dtype=np.int32)\n",
    "    return x_chunk, y_chunk"
   ]
  },
  {
   "cell_type": "markdown",
   "id": "2d810174-02d7-45b4-87f8-18f866827205",
   "metadata": {},
   "source": [
    "### Step 1\n",
    "預先載入所有資料，並解析資料要使用的格式"
   ]
  },
  {
   "cell_type": "code",
   "execution_count": 2,
   "id": "9cd34708-05bd-43b6-a942-49b6f8138b8c",
   "metadata": {},
   "outputs": [],
   "source": [
    "train_df, test_df = load_all_csv()\n",
    "dformat = get_data_format(train_df)\n",
    "x_chunk, y_chunk = transfer_data(train_df, dformat)"
   ]
  },
  {
   "cell_type": "markdown",
   "id": "3f7d7c78-7873-4666-8baa-ed7e56713b16",
   "metadata": {},
   "source": [
    "### Step 2\n",
    "建構並訓練模型"
   ]
  },
  {
   "cell_type": "code",
   "execution_count": 3,
   "id": "bfcb4a1d-e922-4861-97f1-2bda7e07abcd",
   "metadata": {},
   "outputs": [
    {
     "data": {
      "text/html": [
       "<style>#sk-container-id-1 {color: black;}#sk-container-id-1 pre{padding: 0;}#sk-container-id-1 div.sk-toggleable {background-color: white;}#sk-container-id-1 label.sk-toggleable__label {cursor: pointer;display: block;width: 100%;margin-bottom: 0;padding: 0.3em;box-sizing: border-box;text-align: center;}#sk-container-id-1 label.sk-toggleable__label-arrow:before {content: \"▸\";float: left;margin-right: 0.25em;color: #696969;}#sk-container-id-1 label.sk-toggleable__label-arrow:hover:before {color: black;}#sk-container-id-1 div.sk-estimator:hover label.sk-toggleable__label-arrow:before {color: black;}#sk-container-id-1 div.sk-toggleable__content {max-height: 0;max-width: 0;overflow: hidden;text-align: left;background-color: #f0f8ff;}#sk-container-id-1 div.sk-toggleable__content pre {margin: 0.2em;color: black;border-radius: 0.25em;background-color: #f0f8ff;}#sk-container-id-1 input.sk-toggleable__control:checked~div.sk-toggleable__content {max-height: 200px;max-width: 100%;overflow: auto;}#sk-container-id-1 input.sk-toggleable__control:checked~label.sk-toggleable__label-arrow:before {content: \"▾\";}#sk-container-id-1 div.sk-estimator input.sk-toggleable__control:checked~label.sk-toggleable__label {background-color: #d4ebff;}#sk-container-id-1 div.sk-label input.sk-toggleable__control:checked~label.sk-toggleable__label {background-color: #d4ebff;}#sk-container-id-1 input.sk-hidden--visually {border: 0;clip: rect(1px 1px 1px 1px);clip: rect(1px, 1px, 1px, 1px);height: 1px;margin: -1px;overflow: hidden;padding: 0;position: absolute;width: 1px;}#sk-container-id-1 div.sk-estimator {font-family: monospace;background-color: #f0f8ff;border: 1px dotted black;border-radius: 0.25em;box-sizing: border-box;margin-bottom: 0.5em;}#sk-container-id-1 div.sk-estimator:hover {background-color: #d4ebff;}#sk-container-id-1 div.sk-parallel-item::after {content: \"\";width: 100%;border-bottom: 1px solid gray;flex-grow: 1;}#sk-container-id-1 div.sk-label:hover label.sk-toggleable__label {background-color: #d4ebff;}#sk-container-id-1 div.sk-serial::before {content: \"\";position: absolute;border-left: 1px solid gray;box-sizing: border-box;top: 0;bottom: 0;left: 50%;z-index: 0;}#sk-container-id-1 div.sk-serial {display: flex;flex-direction: column;align-items: center;background-color: white;padding-right: 0.2em;padding-left: 0.2em;position: relative;}#sk-container-id-1 div.sk-item {position: relative;z-index: 1;}#sk-container-id-1 div.sk-parallel {display: flex;align-items: stretch;justify-content: center;background-color: white;position: relative;}#sk-container-id-1 div.sk-item::before, #sk-container-id-1 div.sk-parallel-item::before {content: \"\";position: absolute;border-left: 1px solid gray;box-sizing: border-box;top: 0;bottom: 0;left: 50%;z-index: -1;}#sk-container-id-1 div.sk-parallel-item {display: flex;flex-direction: column;z-index: 1;position: relative;background-color: white;}#sk-container-id-1 div.sk-parallel-item:first-child::after {align-self: flex-end;width: 50%;}#sk-container-id-1 div.sk-parallel-item:last-child::after {align-self: flex-start;width: 50%;}#sk-container-id-1 div.sk-parallel-item:only-child::after {width: 0;}#sk-container-id-1 div.sk-dashed-wrapped {border: 1px dashed gray;margin: 0 0.4em 0.5em 0.4em;box-sizing: border-box;padding-bottom: 0.4em;background-color: white;}#sk-container-id-1 div.sk-label label {font-family: monospace;font-weight: bold;display: inline-block;line-height: 1.2em;}#sk-container-id-1 div.sk-label-container {text-align: center;}#sk-container-id-1 div.sk-container {/* jupyter's `normalize.less` sets `[hidden] { display: none; }` but bootstrap.min.css set `[hidden] { display: none !important; }` so we also need the `!important` here to be able to override the default hidden behavior on the sphinx rendered scikit-learn.org. See: https://github.com/scikit-learn/scikit-learn/issues/21755 */display: inline-block !important;position: relative;}#sk-container-id-1 div.sk-text-repr-fallback {display: none;}</style><div id=\"sk-container-id-1\" class=\"sk-top-container\"><div class=\"sk-text-repr-fallback\"><pre>LogisticRegression()</pre><b>In a Jupyter environment, please rerun this cell to show the HTML representation or trust the notebook. <br />On GitHub, the HTML representation is unable to render, please try loading this page with nbviewer.org.</b></div><div class=\"sk-container\" hidden><div class=\"sk-item\"><div class=\"sk-estimator sk-toggleable\"><input class=\"sk-toggleable__control sk-hidden--visually\" id=\"sk-estimator-id-1\" type=\"checkbox\" checked><label for=\"sk-estimator-id-1\" class=\"sk-toggleable__label sk-toggleable__label-arrow\">LogisticRegression</label><div class=\"sk-toggleable__content\"><pre>LogisticRegression()</pre></div></div></div></div></div>"
      ],
      "text/plain": [
       "LogisticRegression()"
      ]
     },
     "execution_count": 3,
     "metadata": {},
     "output_type": "execute_result"
    }
   ],
   "source": [
    "train_x, train_y, test_x, test_y = split(x_chunk, y_chunk, r=0.9)\n",
    "lr = LogisticRegression()\n",
    "lr.fit(train_x, train_y)"
   ]
  },
  {
   "cell_type": "markdown",
   "id": "13a56ac0-0c01-4d53-96cb-5080ae1bfb87",
   "metadata": {},
   "source": [
    "### Step 3\n",
    "列印混淆矩陣和約登指數"
   ]
  },
  {
   "cell_type": "code",
   "execution_count": 4,
   "id": "40dd463c-3fa7-4a8c-8827-b1e24c5b0fe5",
   "metadata": {},
   "outputs": [
    {
     "data": {
      "image/png": "[encoded data removed]",
      "text/plain": [
       "<Figure size 700x400 with 1 Axes>"
      ]
     },
     "metadata": {},
     "output_type": "display_data"
    },
    {
     "name": "stdout",
     "output_type": "stream",
     "text": [
      "Youden Index : 0.3049\n"
     ]
    }
   ],
   "source": [
    "test_performance(lr, test_x, test_y)"
   ]
  },
  {
   "cell_type": "markdown",
   "id": "91bede24-c9f5-427a-b02a-5b0f20a9a0ed",
   "metadata": {},
   "source": [
    "### Step 4\n",
    "預測結果"
   ]
  },
  {
   "cell_type": "code",
   "execution_count": 5,
   "id": "4bea4a01-4ca3-4810-9952-bb2100eaab5e",
   "metadata": {},
   "outputs": [
    {
     "name": "stdout",
     "output_type": "stream",
     "text": [
      "         0\n",
      "0     left\n",
      "1        0\n",
      "2        0\n",
      "3        1\n",
      "4        1\n",
      "...    ...\n",
      "4996     0\n",
      "4997     0\n",
      "4998     1\n",
      "4999     0\n",
      "5000     0\n",
      "\n",
      "[5001 rows x 1 columns]\n"
     ]
    }
   ],
   "source": [
    "x_chunk, _ = transfer_data(test_df, dformat)\n",
    "print_results(lr, x_chunk)"
   ]
  }
 ],
 "metadata": {
  "kernelspec": {
   "display_name": "Python 3 (ipykernel)",
   "language": "python",
   "name": "python3"
  },
  "language_info": {
   "codemirror_mode": {
    "name": "ipython",
    "version": 3
   },
   "file_extension": ".py",
   "mimetype": "text/x-python",
   "name": "python",
   "nbconvert_exporter": "python",
   "pygments_lexer": "ipython3",
   "version": "3.10.12"
  }
 },
 "nbformat": 4,
 "nbformat_minor": 5
}
