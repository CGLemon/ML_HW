{
 "cells": [
  {
   "cell_type": "markdown",
   "id": "b2aa07a4-85b6-46cc-8c0b-58d22e8dd23d",
   "metadata": {},
   "source": [
    "#### 1. 撰寫 pytorch 函數 func()，$a_4x^4 + a_3x^3 + a_2x^2 + a_1x + a_0$ "
   ]
  },
  {
   "cell_type": "code",
   "execution_count": 1,
   "id": "efd63519-51c8-4453-94ba-a2f0a6ed5d71",
   "metadata": {},
   "outputs": [],
   "source": [
    "def func(param, x):\n",
    "    a4, a3, a2, a1, a0 = param\n",
    "    p4 = a4 * x * x * x * x\n",
    "    p3 = a3 * x * x * x\n",
    "    p2 = a2 * x * x\n",
    "    p1 = a1 * x\n",
    "    p0 = a0\n",
    "    return p4 + p3 + p2 + p1 + p0"
   ]
  },
  {
   "cell_type": "markdown",
   "id": "eb09d9d3-ab8a-41db-9042-f035fd8df986",
   "metadata": {},
   "source": [
    "#### 2. 配合 pytorch 的 optimizer 利用遞迴方式找出 $x_{min}$ "
   ]
  },
  {
   "cell_type": "code",
   "execution_count": 2,
   "id": "80dd8114-8bea-4645-9f84-30730377a2ca",
   "metadata": {},
   "outputs": [
    {
     "name": "stdout",
     "output_type": "stream",
     "text": [
      "x_min = -0.3044\n",
      "y_min = 0.6753\n"
     ]
    }
   ],
   "source": [
    "import torch\n",
    "\n",
    "NUM_STEPS=10000\n",
    "\n",
    "def find_min_torch(param):\n",
    "    x = torch.rand(1, requires_grad=True)\n",
    "    opt = torch.optim.Adam([x], lr=0.01)\n",
    "    last = None\n",
    "\n",
    "    for s in range(NUM_STEPS):\n",
    "        y = func(param, x)\n",
    "        y.backward()\n",
    "        opt.step()\n",
    "        opt.zero_grad()\n",
    "    print(\"x_min = {:.4f}\".format(x.item()))\n",
    "    print(\"y_min = {:.4f}\".format(y.item()))\n",
    "\n",
    "find_min_torch((4,1,3,2,1))"
   ]
  },
  {
   "cell_type": "markdown",
   "id": "1949f616-654a-4b61-a15e-cc04c76f5a37",
   "metadata": {},
   "source": [
    "#### 3.不使用 optimizer，而用自己更新遞迴方式找出 $x_{min}$ "
   ]
  },
  {
   "cell_type": "code",
   "execution_count": 3,
   "id": "f05490df-7e25-45ac-956a-ea2fdba3a6e1",
   "metadata": {},
   "outputs": [
    {
     "name": "stdout",
     "output_type": "stream",
     "text": [
      "x_min = -0.3044\n",
      "y_min = 0.6753\n"
     ]
    }
   ],
   "source": [
    "def find_min_no_optimizer(param):\n",
    "    x = torch.rand(1, requires_grad=True)\n",
    "    last = None\n",
    "\n",
    "    for s in range(NUM_STEPS):\n",
    "        y = func(param, x)\n",
    "        y.backward()\n",
    "        factor = torch.pow(1./torch.abs(x.grad.data.detach()), 1.1)\n",
    "        if factor > 0.01:\n",
    "            factor.data = torch.Tensor([0.01])\n",
    "        factor = factor.squeeze(-1)\n",
    "        x.data -= (factor * x.grad.data)\n",
    "        x.grad.data.zero_()\n",
    "    print(\"x_min = {:.4f}\".format(x.item()))\n",
    "    print(\"y_min = {:.4f}\".format(y.item()))\n",
    "    \n",
    "find_min_no_optimizer((4,1,3,2,1))"
   ]
  }
 ],
 "metadata": {
  "kernelspec": {
   "display_name": "Python 3 (ipykernel)",
   "language": "python",
   "name": "python3"
  },
  "language_info": {
   "codemirror_mode": {
    "name": "ipython",
    "version": 3
   },
   "file_extension": ".py",
   "mimetype": "text/x-python",
   "name": "python",
   "nbconvert_exporter": "python",
   "pygments_lexer": "ipython3",
   "version": "3.10.12"
  }
 },
 "nbformat": 4,
 "nbformat_minor": 5
}
