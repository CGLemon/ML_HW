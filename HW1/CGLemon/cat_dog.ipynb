{
 "cells": [
  {
   "cell_type": "code",
   "execution_count": 6,
   "id": "256eeff7-a68b-4be9-b899-cc9ea04f2b81",
   "metadata": {},
   "outputs": [],
   "source": [
    "import numpy as np\n",
    "import matplotlib.pyplot as plt\n",
    "import cv2\n",
    "import os, glob\n",
    "\n",
    "IMGS_ROOT = \"images\"\n",
    "TARGET_SIZE = (64, 64)\n",
    "\n",
    "def show_img(img):\n",
    "    transformed_img = cv2.cvtColor(img, cv2.COLOR_BGR2RGB)\n",
    "    plt.imshow(transformed_img) \n",
    "    plt.axis(\"off\")\n",
    "    plt.show()\n",
    "\n",
    "def load_ref_imgs():\n",
    "    imgs_path = os.path.join(IMGS_ROOT, \"reference\")\n",
    "    cat_imgs_path = os.path.join(imgs_path, \"cats\")\n",
    "    dog_imgs_path = os.path.join(imgs_path, \"dogs\")\n",
    "    imgs_with_tag = list()\n",
    "\n",
    "    for f in glob.glob(os.path.join(cat_imgs_path, \"*\")):\n",
    "        img = cv2.imread(f)\n",
    "        img = cv2.resize(img, TARGET_SIZE)\n",
    "        imgs_with_tag.append((img, \"cat\"))\n",
    "    for f in glob.glob(os.path.join(dog_imgs_path, \"*\")):\n",
    "        img = cv2.imread(f)\n",
    "        img = cv2.resize(img, TARGET_SIZE)\n",
    "        imgs_with_tag.append((img, \"dog\"))\n",
    "    return imgs_with_tag\n",
    "\n",
    "def process(img, k=3):\n",
    "    imgs_with_tag = load_ref_imgs()\n",
    "    diff_result = list()\n",
    "\n",
    "    for tag_img, tag in imgs_with_tag:\n",
    "        diff_vec = np.absolute(img - tag_img) / 255.\n",
    "        diff = np.mean(diff_vec)\n",
    "        diff_result.append((diff, tag))\n",
    "\n",
    "    cat_cnt = 0\n",
    "    dog_cnt = 0\n",
    "\n",
    "    diff_result.sort(key=lambda x:x[0])\n",
    "    for i in range(k):\n",
    "        _, tag = diff_result[i]\n",
    "        if tag == \"cat\":\n",
    "            cat_cnt += 1\n",
    "        elif tag == \"dog\":\n",
    "            dog_cnt += 1\n",
    "\n",
    "    if cat_cnt > dog_cnt:\n",
    "        print(\"k={}, it is cat\".format(k))\n",
    "    elif cat_cnt < dog_cnt:\n",
    "        print(\"k={}, it is dog\".format(k))\n",
    "    else:\n",
    "        print(\"k={}, I have no idea.\".format(k))\n",
    "\n",
    "def choose_number():\n",
    "    select = None\n",
    "    while True:\n",
    "        print(\"Please enter a number (1~20).\")\n",
    "        val = input()\n",
    "        if not val.isnumeric():\n",
    "            print(\"Not a nmuber or not integer.\")\n",
    "            continue\n",
    "        select = int(val)\n",
    "        if select < 1 or select > 20:\n",
    "            print(\"Out or the range.\")\n",
    "            continue\n",
    "        break\n",
    "    return select"
   ]
  },
  {
   "cell_type": "code",
   "execution_count": 10,
   "id": "2c826a0d-2ca9-4aa5-87d6-ec09772be539",
   "metadata": {},
   "outputs": [
    {
     "name": "stdout",
     "output_type": "stream",
     "text": [
      "Please enter a number (1~20).\n"
     ]
    },
    {
     "name": "stdin",
     "output_type": "stream",
     "text": [
      " 1\n"
     ]
    },
    {
     "data": {
      "image/png": "[encoded data removed]",
      "text/plain": [
       "<Figure size 640x480 with 1 Axes>"
      ]
     },
     "metadata": {},
     "output_type": "display_data"
    }
   ],
   "source": [
    "select = choose_number()\n",
    "imgs_path = os.path.join(IMGS_ROOT, \"test\")\n",
    "img = cv2.imread(os.path.join(imgs_path, \"pic{}.jpg\".format(select)))\n",
    "img = cv2.resize(img, TARGET_SIZE)\n",
    "show_img(img)"
   ]
  },
  {
   "cell_type": "markdown",
   "id": "a2547977-a050-4cbc-9ed9-a7f0bbd9197e",
   "metadata": {},
   "source": [
    "### 當 k 值為 3 時的預測結果"
   ]
  },
  {
   "cell_type": "code",
   "execution_count": 8,
   "id": "0ecb4b98-b494-4c73-947d-657d5d821237",
   "metadata": {},
   "outputs": [
    {
     "name": "stdout",
     "output_type": "stream",
     "text": [
      "k=3, It is dog\n"
     ]
    }
   ],
   "source": [
    "process(img, k=3)"
   ]
  },
  {
   "cell_type": "markdown",
   "id": "eab157ce-763b-449e-baeb-323465ac5192",
   "metadata": {},
   "source": [
    "### 不同 k 值對精準度的影響，當 k 為 1 時準度最高，因為資料集中，包含測試資料，當 k 為 1 時誤差為 0，但當 k 為其它數值時，則是完全隨機的。"
   ]
  },
  {
   "cell_type": "code",
   "execution_count": 12,
   "id": "481994a9-300f-4e50-a7d7-8d62b3f90927",
   "metadata": {},
   "outputs": [
    {
     "name": "stdout",
     "output_type": "stream",
     "text": [
      "k=1, It is cat\n",
      "k=2, I have no idea.\n",
      "k=3, It is dog\n",
      "k=4, It is dog\n",
      "k=5, It is dog\n",
      "k=6, I have no idea.\n",
      "k=7, It is dog\n",
      "k=8, I have no idea.\n",
      "k=9, It is cat\n"
     ]
    }
   ],
   "source": [
    "for k in range(1, 10):\n",
    "    process(img, k=k)"
   ]
  },
  {
   "cell_type": "markdown",
   "id": "6b20410a-7392-404b-ad11-ab03fd7ae010",
   "metadata": {},
   "source": [
    "### 此方法判斷的問題為，顏色不能代表物體的種類，例如一個白色狗和白色的貓，在此種分類中可能會被當成同一種類，而白色貓和黑色的貓，可能會被當成不同種類。"
   ]
  },
  {
   "cell_type": "code",
   "execution_count": null,
   "id": "b9e0260f-8df3-4575-b9bf-17179e068fba",
   "metadata": {},
   "outputs": [],
   "source": []
  }
 ],
 "metadata": {
  "kernelspec": {
   "display_name": "Python 3 (ipykernel)",
   "language": "python",
   "name": "python3"
  },
  "language_info": {
   "codemirror_mode": {
    "name": "ipython",
    "version": 3
   },
   "file_extension": ".py",
   "mimetype": "text/x-python",
   "name": "python",
   "nbconvert_exporter": "python",
   "pygments_lexer": "ipython3",
   "version": "3.8.10"
  }
 },
 "nbformat": 4,
 "nbformat_minor": 5
}
