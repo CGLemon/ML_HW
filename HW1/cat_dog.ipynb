{
 "cells": [
  {
   "cell_type": "code",
   "execution_count": 1,
   "id": "256eeff7-a68b-4be9-b899-cc9ea04f2b81",
   "metadata": {},
   "outputs": [
    {
     "name": "stdout",
     "output_type": "stream",
     "text": [
      "Please enter a number (1~20).\n"
     ]
    },
    {
     "name": "stdin",
     "output_type": "stream",
     "text": [
      " 12\n"
     ]
    },
    {
     "name": "stdout",
     "output_type": "stream",
     "text": [
      "It is dog\n"
     ]
    }
   ],
   "source": [
    "import numpy as np\n",
    "import cv2\n",
    "import os, glob\n",
    "\n",
    "K=3\n",
    "IMGS_ROOT = \"images\"\n",
    "TARGET_SIZE = (64, 64)\n",
    "\n",
    "def show_img(img):\n",
    "    cv2.imshow(\"image\", img)\n",
    "    cv2.waitKey(0)\n",
    "    cv2.destroyAllWindows()\n",
    "\n",
    "def load_ref_imgs():\n",
    "    imgs_path = os.path.join(IMGS_ROOT, \"reference\")\n",
    "    cat_imgs_path = os.path.join(imgs_path, \"cats\")\n",
    "    dog_imgs_path = os.path.join(imgs_path, \"dogs\")\n",
    "    imgs_with_tag = list()\n",
    "\n",
    "    for f in glob.glob(os.path.join(cat_imgs_path, \"*\")):\n",
    "        img = cv2.imread(f)\n",
    "        img = cv2.resize(img, TARGET_SIZE)\n",
    "        imgs_with_tag.append((img, \"cat\"))\n",
    "    for f in glob.glob(os.path.join(dog_imgs_path, \"*\")):\n",
    "        img = cv2.imread(f)\n",
    "        img = cv2.resize(img, TARGET_SIZE)\n",
    "        imgs_with_tag.append((img, \"dog\"))\n",
    "    return imgs_with_tag\n",
    "\n",
    "def process(img):\n",
    "    imgs_with_tag = load_ref_imgs()\n",
    "    diff_result = list()\n",
    "\n",
    "    for tag_img, tag in imgs_with_tag:\n",
    "        diff_vec = np.absolute(img - tag_img) / 255.\n",
    "        diff = np.mean(diff_vec)\n",
    "        diff_result.append((diff, tag))\n",
    "\n",
    "    cat_cnt = 0\n",
    "    dog_cnt = 0\n",
    "\n",
    "    diff_result.sort(key=lambda x:x[0])\n",
    "    for i in range(K):\n",
    "        _, tag = diff_result[i]\n",
    "        if tag == \"cat\":\n",
    "            cat_cnt += 1\n",
    "        elif tag == \"dog\":\n",
    "            dog_cnt += 1\n",
    "\n",
    "    if cat_cnt > dog_cnt:\n",
    "        print(\"It is cat\")\n",
    "    elif cat_cnt < dog_cnt:\n",
    "        print(\"It is dog\")\n",
    "    else:\n",
    "        print(\"I have no idea.\")\n",
    "\n",
    "def main():\n",
    "    select = None\n",
    "    while True:\n",
    "        print(\"Please enter a number (1~20).\")\n",
    "        val = input()\n",
    "        if not val.isnumeric():\n",
    "            print(\"Not a nmuber or not integer.\")\n",
    "            continue\n",
    "        select = int(val)\n",
    "        if select < 1 or select > 20:\n",
    "            print(\"Out or the range.\")\n",
    "            continue\n",
    "        break\n",
    "    imgs_path = os.path.join(IMGS_ROOT, \"test\")\n",
    "    img = cv2.imread(os.path.join(imgs_path, \"pic{}.jpg\".format(select)))\n",
    "    img = cv2.resize(img, TARGET_SIZE)\n",
    "\n",
    "    process(img)\n",
    "\n",
    "if __name__ == '__main__':\n",
    "    main()"
   ]
  },
  {
   "cell_type": "code",
   "execution_count": null,
   "id": "2c826a0d-2ca9-4aa5-87d6-ec09772be539",
   "metadata": {},
   "outputs": [],
   "source": []
  }
 ],
 "metadata": {
  "kernelspec": {
   "display_name": "Python 3 (ipykernel)",
   "language": "python",
   "name": "python3"
  },
  "language_info": {
   "codemirror_mode": {
    "name": "ipython",
    "version": 3
   },
   "file_extension": ".py",
   "mimetype": "text/x-python",
   "name": "python",
   "nbconvert_exporter": "python",
   "pygments_lexer": "ipython3",
   "version": "3.8.10"
  }
 },
 "nbformat": 4,
 "nbformat_minor": 5
}
